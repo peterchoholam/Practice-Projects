{
 "cells": [
  {
   "cell_type": "markdown",
   "metadata": {},
   "source": [
    "# CNN with MNIST dataset"
   ]
  },
  {
   "cell_type": "markdown",
   "metadata": {},
   "source": [
    "In this notebook, we will employ convolutional neural network (CNN) to classify handwriting digits with the MNIST dataset."
   ]
  },
  {
   "cell_type": "code",
   "execution_count": 1,
   "metadata": {},
   "outputs": [],
   "source": [
    "import torch\n",
    "import torchvision\n",
    "import torchvision.transforms as transforms\n",
    "\n",
    "import numpy as np\n",
    "import matplotlib.pyplot as plt\n",
    "%matplotlib inline"
   ]
  },
  {
   "cell_type": "markdown",
   "metadata": {},
   "source": [
    "The library `torchvision` comes with the MNIST dataset, and we can simply download the dataset with the following codes."
   ]
  },
  {
   "cell_type": "code",
   "execution_count": 2,
   "metadata": {},
   "outputs": [],
   "source": [
    "T = transforms.ToTensor()\n",
    "\n",
    "trainset = torchvision.datasets.MNIST(root='./data', train=True,\n",
    "                                        download=True, transform=T)\n",
    "trainloader = torch.utils.data.DataLoader(trainset, batch_size=4,\n",
    "                                          shuffle=True, num_workers=2)\n",
    "\n",
    "testset = torchvision.datasets.MNIST(root='./data', train=False,\n",
    "                                       download=True, transform=T)\n",
    "testloader = torch.utils.data.DataLoader(testset, batch_size=4,\n",
    "                                         shuffle=False, num_workers=2)"
   ]
  },
  {
   "cell_type": "markdown",
   "metadata": {},
   "source": [
    "The data will be downloaded under the folder `data`. We utilize the `DataLoader` to divide the data into mini-batches of size 4. And of course, the images were converted to `torch` tensors. To see how the images can be loaded from these dataloaders, here is an example:"
   ]
  },
  {
   "cell_type": "code",
   "execution_count": 3,
   "metadata": {},
   "outputs": [],
   "source": [
    "dataiter = iter(trainloader)\n",
    "images, labels = dataiter.next()"
   ]
  },
  {
   "cell_type": "markdown",
   "metadata": {},
   "source": [
    "The variable `images` will contain four images and `labels` will contain their labels. They are both `torch` tensors."
   ]
  },
  {
   "cell_type": "code",
   "execution_count": 4,
   "metadata": {},
   "outputs": [
    {
     "data": {
      "text/plain": [
       "torch.Tensor"
      ]
     },
     "execution_count": 4,
     "metadata": {},
     "output_type": "execute_result"
    }
   ],
   "source": [
    "type(images)"
   ]
  },
  {
   "cell_type": "code",
   "execution_count": 5,
   "metadata": {
    "scrolled": true
   },
   "outputs": [
    {
     "data": {
      "text/plain": [
       "torch.Size([4, 1, 28, 28])"
      ]
     },
     "execution_count": 5,
     "metadata": {},
     "output_type": "execute_result"
    }
   ],
   "source": [
    "images.shape"
   ]
  },
  {
   "cell_type": "code",
   "execution_count": 6,
   "metadata": {},
   "outputs": [
    {
     "data": {
      "text/plain": [
       "tensor([8, 8, 3, 6])"
      ]
     },
     "execution_count": 6,
     "metadata": {},
     "output_type": "execute_result"
    }
   ],
   "source": [
    "labels"
   ]
  },
  {
   "cell_type": "markdown",
   "metadata": {},
   "source": [
    "In our dataset, every image has 28 x 28 pixels. To get the sizes of our training set and testing set, we can excute the following codes:"
   ]
  },
  {
   "cell_type": "code",
   "execution_count": 7,
   "metadata": {
    "scrolled": true
   },
   "outputs": [
    {
     "data": {
      "text/plain": [
       "60000"
      ]
     },
     "execution_count": 7,
     "metadata": {},
     "output_type": "execute_result"
    }
   ],
   "source": [
    "len(trainloader) * 4"
   ]
  },
  {
   "cell_type": "code",
   "execution_count": 8,
   "metadata": {
    "scrolled": true
   },
   "outputs": [
    {
     "data": {
      "text/plain": [
       "10000"
      ]
     },
     "execution_count": 8,
     "metadata": {},
     "output_type": "execute_result"
    }
   ],
   "source": [
    "len(testloader) * 4"
   ]
  },
  {
   "cell_type": "markdown",
   "metadata": {},
   "source": [
    "Before we get to the deep learning part, let's plot some of our images. In order to use `matplotlib.pyplot` for plotting, the `torch` tensors need to be converted to `numpy` arrays first."
   ]
  },
  {
   "cell_type": "code",
   "execution_count": 9,
   "metadata": {},
   "outputs": [],
   "source": [
    "images_numpy = images.numpy()\n",
    "labels_numpy = labels.numpy()"
   ]
  },
  {
   "cell_type": "code",
   "execution_count": 10,
   "metadata": {
    "scrolled": false
   },
   "outputs": [
    {
     "data": {
      "image/png": "[encoded data removed]",
      "text/plain": [
       "<Figure size 1440x720 with 4 Axes>"
      ]
     },
     "metadata": {
      "needs_background": "light"
     },
     "output_type": "display_data"
    }
   ],
   "source": [
    "plt.figure(figsize=(20, 10))\n",
    "\n",
    "for i in range(4):\n",
    "    plt.subplot(1, 4, i+1)\n",
    "    title = 'Digit ' + str(labels_numpy[i])\n",
    "    plt.title(title)\n",
    "    plt.imshow(images_numpy[i, 0, :, :], cmap='gray');"
   ]
  },
  {
   "cell_type": "markdown",
   "metadata": {},
   "source": [
    "Now, we are ready to build our CNN. For illustration, I first make an example network to see how an image (or rather, a batch of images) will be processed in our network. We will ask our network to print out the size of the tensor at every step."
   ]
  },
  {
   "cell_type": "code",
   "execution_count": 11,
   "metadata": {},
   "outputs": [],
   "source": [
    "import torch.nn as nn\n",
    "import torch.nn.functional as F\n",
    "\n",
    "class Net(nn.Module):\n",
    "    def __init__(self):\n",
    "        super(Net, self).__init__()\n",
    "        self.conv1 = nn.Conv2d(1, 6, 5)\n",
    "        self.pool = nn.MaxPool2d(2, 2)\n",
    "        self.conv2 = nn.Conv2d(6, 16, 5)\n",
    "        self.fc1 = nn.Linear(16 * 4 * 4, 120)\n",
    "        self.fc2 = nn.Linear(120, 84)\n",
    "        self.fc3 = nn.Linear(84, 10)\n",
    "        \n",
    "    def forward(self, x):\n",
    "        print(x.shape)\n",
    "        \n",
    "        x = self.conv1(x)\n",
    "        print(x.shape)\n",
    "        \n",
    "        x = self.pool(F.relu(x))\n",
    "        print(x.shape)\n",
    "        \n",
    "        x = self.conv2(x)\n",
    "        print(x.shape)\n",
    "        \n",
    "        x = self.pool(F.relu(x))\n",
    "        print(x.shape)\n",
    "        \n",
    "        x = x.view(-1, 16 * 4 * 4)\n",
    "        print(x.shape)\n",
    "        \n",
    "        x = F.relu(self.fc1(x))\n",
    "        print(x.shape)\n",
    "        \n",
    "        x = F.relu(self.fc2(x))\n",
    "        print(x.shape)\n",
    "        \n",
    "        x = self.fc3(x)\n",
    "        print(x.shape)\n",
    "        return x\n",
    "\n",
    "\n",
    "net = Net()"
   ]
  },
  {
   "cell_type": "markdown",
   "metadata": {},
   "source": [
    "Let see what happen if we apply this network on a batch of images:"
   ]
  },
  {
   "cell_type": "code",
   "execution_count": 12,
   "metadata": {
    "scrolled": true
   },
   "outputs": [
    {
     "name": "stdout",
     "output_type": "stream",
     "text": [
      "torch.Size([4, 1, 28, 28])\n",
      "torch.Size([4, 6, 24, 24])\n",
      "torch.Size([4, 6, 12, 12])\n",
      "torch.Size([4, 16, 8, 8])\n",
      "torch.Size([4, 16, 4, 4])\n",
      "torch.Size([4, 256])\n",
      "torch.Size([4, 120])\n",
      "torch.Size([4, 84])\n",
      "torch.Size([4, 10])\n"
     ]
    },
    {
     "data": {
      "text/plain": [
       "tensor([[ 0.0477, -0.0111,  0.0448, -0.0652,  0.0822, -0.0935, -0.0395, -0.0634,\n",
       "          0.0578, -0.0135],\n",
       "        [ 0.0458, -0.0218,  0.0483, -0.0637,  0.0921, -0.0820, -0.0400, -0.0736,\n",
       "          0.0605, -0.0048],\n",
       "        [ 0.0431, -0.0095,  0.0456, -0.0680,  0.0880, -0.0807, -0.0329, -0.0737,\n",
       "          0.0517, -0.0057],\n",
       "        [ 0.0505, -0.0161,  0.0361, -0.0744,  0.0918, -0.0855, -0.0374, -0.0663,\n",
       "          0.0635, -0.0045]], grad_fn=<AddmmBackward>)"
      ]
     },
     "execution_count": 12,
     "metadata": {},
     "output_type": "execute_result"
    }
   ],
   "source": [
    "net(images)"
   ]
  },
  {
   "cell_type": "markdown",
   "metadata": {},
   "source": [
    "Our batch of images takes the shape (4, 1, 28, 28) since we are inputting 4 images at once. The first layer is given by 6 5x5 filters, and so the shape of our data becomes (4, 6, 24, 24). After the 2x2 max pooling, it is (4, 6, 12, 12).\n",
    "\n",
    "The next layer is a little bit tricky. We input 6 channels of 12x12 images and the layer would output 16 channels of 8x8 images. When calculating these 16 outpts, the network will apply a separate filter for each of the 6 input channels, and then sum them together. As you can probably guess, there are 16x6x5x5 parameters involved here (excluding the bias term).\n",
    "\n",
    "After the last max pooling, each image has become a tensor of size (16, 4, 4). This is very importance since we need to manually set 16x4x4 = 256 as the input dimension of our first fully connected layer.\n",
    "\n",
    "The rest of the layers are all fully connected layers, which are pretty straightforward. At the end, we have an output of 10 dimensional tensor, corresponding to the 10 classes of handwriting digits. We do not need a softmax here since our loss function will take care of that.\n",
    "\n",
    "So next, here is our acutal CNN, without the printing visualization:"
   ]
  },
  {
   "cell_type": "code",
   "execution_count": 13,
   "metadata": {},
   "outputs": [],
   "source": [
    "class Model(nn.Module):\n",
    "    def __init__(self):\n",
    "        super(Model, self).__init__()\n",
    "        self.conv1 = nn.Conv2d(1, 6, 5)\n",
    "        self.pool = nn.MaxPool2d(2, 2)\n",
    "        self.conv2 = nn.Conv2d(6, 16, 5)\n",
    "        self.fc1 = nn.Linear(16 * 4 * 4, 120)\n",
    "        self.fc2 = nn.Linear(120, 84)\n",
    "        self.fc3 = nn.Linear(84, 10)\n",
    "        \n",
    "    def forward(self, x):\n",
    "        x = self.conv1(x)\n",
    "        x = self.pool(F.relu(x))\n",
    "        x = self.conv2(x)\n",
    "        x = self.pool(F.relu(x))\n",
    "        x = x.view(-1, 16 * 4 * 4)\n",
    "        x = F.relu(self.fc1(x))\n",
    "        x = F.relu(self.fc2(x)) \n",
    "        x = self.fc3(x)\n",
    "        return x\n",
    "\n",
    "\n",
    "model = Model()"
   ]
  },
  {
   "cell_type": "code",
   "execution_count": 14,
   "metadata": {
    "scrolled": true
   },
   "outputs": [
    {
     "name": "stdout",
     "output_type": "stream",
     "text": [
      "Model(\n",
      "  (conv1): Conv2d(1, 6, kernel_size=(5, 5), stride=(1, 1))\n",
      "  (pool): MaxPool2d(kernel_size=2, stride=2, padding=0, dilation=1, ceil_mode=False)\n",
      "  (conv2): Conv2d(6, 16, kernel_size=(5, 5), stride=(1, 1))\n",
      "  (fc1): Linear(in_features=256, out_features=120, bias=True)\n",
      "  (fc2): Linear(in_features=120, out_features=84, bias=True)\n",
      "  (fc3): Linear(in_features=84, out_features=10, bias=True)\n",
      ")\n"
     ]
    }
   ],
   "source": [
    "print(model)"
   ]
  },
  {
   "cell_type": "markdown",
   "metadata": {},
   "source": [
    "You might want to take a look at the parameters:"
   ]
  },
  {
   "cell_type": "code",
   "execution_count": 15,
   "metadata": {
    "scrolled": true
   },
   "outputs": [
    {
     "data": {
      "text/plain": [
       "[Parameter containing:\n",
       " tensor([[[[ 0.0991, -0.0083,  0.0599, -0.1587, -0.0576],\n",
       "           [ 0.1750,  0.0979,  0.1714, -0.0776,  0.0440],\n",
       "           [-0.0344,  0.1541,  0.1748,  0.0151,  0.1417],\n",
       "           [ 0.0465,  0.0536,  0.1826,  0.0901,  0.0494],\n",
       "           [-0.1978,  0.0595, -0.1282,  0.1900, -0.1912]]],\n",
       " \n",
       " \n",
       "         [[[-0.1488, -0.1817, -0.1339, -0.0562,  0.0079],\n",
       "           [-0.1421, -0.0831,  0.1134, -0.0889,  0.1837],\n",
       "           [ 0.1064,  0.0066,  0.0530, -0.1533,  0.0715],\n",
       "           [-0.1785,  0.0030,  0.1275,  0.0860, -0.0413],\n",
       "           [ 0.0703,  0.1482,  0.0144, -0.0154, -0.0615]]],\n",
       " \n",
       " \n",
       "         [[[ 0.0874, -0.1453,  0.0041, -0.0261,  0.0167],\n",
       "           [-0.1844,  0.1283,  0.1254,  0.0041,  0.1908],\n",
       "           [ 0.0313,  0.0022,  0.0576, -0.1099, -0.0149],\n",
       "           [-0.1715, -0.0544,  0.0259, -0.0236, -0.0223],\n",
       "           [ 0.1510, -0.1634, -0.1575, -0.1368, -0.1883]]],\n",
       " \n",
       " \n",
       "         [[[-0.0904,  0.0942,  0.0494,  0.0511, -0.1209],\n",
       "           [ 0.0364,  0.1641, -0.0106, -0.1437,  0.0221],\n",
       "           [-0.1629,  0.0792,  0.1341,  0.1041,  0.1323],\n",
       "           [ 0.0822,  0.1491, -0.0513,  0.0557,  0.1308],\n",
       "           [-0.0379,  0.1081,  0.0866, -0.0604,  0.0382]]],\n",
       " \n",
       " \n",
       "         [[[-0.1273, -0.1854, -0.0777,  0.0557,  0.0812],\n",
       "           [-0.0516, -0.0265, -0.0498, -0.1046, -0.0434],\n",
       "           [-0.1984, -0.1948,  0.0451,  0.0003, -0.1072],\n",
       "           [ 0.1708, -0.1277,  0.1511, -0.0804, -0.0523],\n",
       "           [-0.0932, -0.1349, -0.0597,  0.1097,  0.1745]]],\n",
       " \n",
       " \n",
       "         [[[ 0.0751,  0.1077, -0.0726, -0.0591,  0.0212],\n",
       "           [-0.0741,  0.1898,  0.0173, -0.0540, -0.0231],\n",
       "           [ 0.1982,  0.0137, -0.1211,  0.0100,  0.1708],\n",
       "           [-0.1952,  0.1545, -0.1881, -0.1566,  0.1856],\n",
       "           [-0.1081, -0.0174, -0.1210, -0.0777, -0.1534]]]], requires_grad=True),\n",
       " Parameter containing:\n",
       " tensor([ 0.1410,  0.0523,  0.0579, -0.0347, -0.0463, -0.1981],\n",
       "        requires_grad=True),\n",
       " Parameter containing:\n",
       " tensor([[[[ 0.0218, -0.0181,  0.0754, -0.0461, -0.0541],\n",
       "           [-0.0507, -0.0752, -0.0398, -0.0549,  0.0627],\n",
       "           [ 0.0506,  0.0659,  0.0139, -0.0744, -0.0476],\n",
       "           [-0.0587, -0.0305, -0.0256,  0.0556, -0.0284],\n",
       "           [-0.0516,  0.0004,  0.0343,  0.0408,  0.0199]],\n",
       " \n",
       "          [[ 0.0612, -0.0365,  0.0250,  0.0725, -0.0402],\n",
       "           [ 0.0596, -0.0153,  0.0263, -0.0753, -0.0748],\n",
       "           [ 0.0199,  0.0632, -0.0014, -0.0237,  0.0547],\n",
       "           [ 0.0109,  0.0748,  0.0002, -0.0757,  0.0439],\n",
       "           [-0.0435, -0.0531,  0.0085, -0.0112,  0.0513]],\n",
       " \n",
       "          [[ 0.0449,  0.0414,  0.0236,  0.0218, -0.0397],\n",
       "           [-0.0410, -0.0091,  0.0126, -0.0170, -0.0098],\n",
       "           [ 0.0222,  0.0655,  0.0148, -0.0080, -0.0335],\n",
       "           [-0.0490,  0.0639, -0.0707,  0.0416,  0.0661],\n",
       "           [-0.0162, -0.0363,  0.0498, -0.0637, -0.0072]],\n",
       " \n",
       "          [[ 0.0808,  0.0329,  0.0248,  0.0346,  0.0691],\n",
       "           [-0.0611,  0.0207,  0.0083,  0.0591, -0.0399],\n",
       "           [-0.0456,  0.0621, -0.0522, -0.0282,  0.0655],\n",
       "           [ 0.0067, -0.0420,  0.0184,  0.0490,  0.0086],\n",
       "           [ 0.0577, -0.0664, -0.0059,  0.0340,  0.0791]],\n",
       " \n",
       "          [[ 0.0028, -0.0476,  0.0816, -0.0213, -0.0717],\n",
       "           [ 0.0259,  0.0559,  0.0014,  0.0519, -0.0292],\n",
       "           [-0.0345, -0.0745,  0.0231, -0.0385,  0.0206],\n",
       "           [ 0.0413, -0.0514, -0.0176, -0.0090,  0.0190],\n",
       "           [-0.0360,  0.0641, -0.0291,  0.0741, -0.0224]],\n",
       " \n",
       "          [[ 0.0808,  0.0351, -0.0318,  0.0693,  0.0365],\n",
       "           [-0.0004,  0.0494,  0.0578,  0.0158,  0.0815],\n",
       "           [-0.0151, -0.0694,  0.0382,  0.0746, -0.0568],\n",
       "           [-0.0533, -0.0604, -0.0723,  0.0153, -0.0774],\n",
       "           [-0.0029, -0.0461, -0.0227,  0.0003,  0.0447]]],\n",
       " \n",
       " \n",
       "         [[[ 0.0084, -0.0604,  0.0639,  0.0161,  0.0725],\n",
       "           [-0.0253,  0.0215,  0.0049, -0.0019,  0.0735],\n",
       "           [-0.0758,  0.0180,  0.0260, -0.0218, -0.0035],\n",
       "           [ 0.0556, -0.0690,  0.0634, -0.0090, -0.0074],\n",
       "           [-0.0286, -0.0675, -0.0131, -0.0519,  0.0637]],\n",
       " \n",
       "          [[-0.0508, -0.0089, -0.0707, -0.0543, -0.0331],\n",
       "           [ 0.0105, -0.0584, -0.0535, -0.0713, -0.0799],\n",
       "           [ 0.0211,  0.0080, -0.0374, -0.0369, -0.0234],\n",
       "           [-0.0047, -0.0477,  0.0751, -0.0644,  0.0293],\n",
       "           [ 0.0415,  0.0608, -0.0276, -0.0287,  0.0563]],\n",
       " \n",
       "          [[ 0.0093, -0.0308, -0.0520,  0.0409, -0.0032],\n",
       "           [ 0.0545, -0.0530,  0.0244, -0.0007,  0.0141],\n",
       "           [-0.0617, -0.0136,  0.0798,  0.0470, -0.0742],\n",
       "           [ 0.0312, -0.0549,  0.0587, -0.0331,  0.0456],\n",
       "           [ 0.0694, -0.0202,  0.0544, -0.0333, -0.0067]],\n",
       " \n",
       "          [[-0.0301, -0.0147, -0.0233,  0.0070,  0.0730],\n",
       "           [ 0.0055,  0.0061,  0.0153, -0.0784, -0.0587],\n",
       "           [ 0.0047,  0.0669, -0.0185,  0.0521, -0.0767],\n",
       "           [ 0.0675,  0.0026,  0.0600,  0.0396, -0.0046],\n",
       "           [ 0.0679,  0.0565, -0.0216, -0.0425, -0.0017]],\n",
       " \n",
       "          [[-0.0634, -0.0208,  0.0375, -0.0008,  0.0312],\n",
       "           [-0.0489, -0.0137,  0.0737, -0.0688, -0.0447],\n",
       "           [ 0.0584,  0.0304,  0.0161, -0.0705,  0.0086],\n",
       "           [-0.0799, -0.0503, -0.0269, -0.0418, -0.0354],\n",
       "           [ 0.0664, -0.0797, -0.0134, -0.0062,  0.0330]],\n",
       " \n",
       "          [[-0.0234,  0.0273,  0.0501,  0.0615,  0.0347],\n",
       "           [-0.0348,  0.0722,  0.0132, -0.0218,  0.0315],\n",
       "           [ 0.0113,  0.0713,  0.0656,  0.0331,  0.0516],\n",
       "           [-0.0308,  0.0589, -0.0509,  0.0804, -0.0539],\n",
       "           [ 0.0245, -0.0733,  0.0044,  0.0411,  0.0690]]],\n",
       " \n",
       " \n",
       "         [[[ 0.0234,  0.0186,  0.0061, -0.0190, -0.0402],\n",
       "           [ 0.0441, -0.0021,  0.0089,  0.0070,  0.0540],\n",
       "           [ 0.0289,  0.0292, -0.0601, -0.0035,  0.0032],\n",
       "           [-0.0738, -0.0161,  0.0671,  0.0236, -0.0579],\n",
       "           [-0.0697,  0.0150,  0.0219, -0.0780,  0.0706]],\n",
       " \n",
       "          [[-0.0787,  0.0674, -0.0335,  0.0503, -0.0620],\n",
       "           [ 0.0058,  0.0464, -0.0280,  0.0440, -0.0004],\n",
       "           [-0.0646, -0.0512,  0.0784, -0.0045, -0.0394],\n",
       "           [ 0.0717, -0.0721,  0.0384,  0.0773, -0.0199],\n",
       "           [ 0.0669, -0.0418,  0.0747, -0.0428, -0.0156]],\n",
       " \n",
       "          [[-0.0298, -0.0612,  0.0268,  0.0420,  0.0604],\n",
       "           [-0.0390, -0.0303, -0.0628,  0.0770, -0.0422],\n",
       "           [ 0.0700,  0.0174,  0.0600, -0.0023,  0.0357],\n",
       "           [-0.0370, -0.0113, -0.0206,  0.0096, -0.0649],\n",
       "           [ 0.0414, -0.0163,  0.0425, -0.0539,  0.0550]],\n",
       " \n",
       "          [[ 0.0492, -0.0579, -0.0520, -0.0185,  0.0457],\n",
       "           [ 0.0191,  0.0227,  0.0794, -0.0281,  0.0343],\n",
       "           [ 0.0486, -0.0007, -0.0784, -0.0443, -0.0807],\n",
       "           [ 0.0048,  0.0235, -0.0309, -0.0772, -0.0705],\n",
       "           [ 0.0690, -0.0423,  0.0474,  0.0595, -0.0104]],\n",
       " \n",
       "          [[ 0.0263, -0.0272,  0.0140, -0.0739, -0.0467],\n",
       "           [-0.0074, -0.0135,  0.0289,  0.0780, -0.0755],\n",
       "           [-0.0082, -0.0462,  0.0169, -0.0803,  0.0537],\n",
       "           [ 0.0390, -0.0615, -0.0571,  0.0414,  0.0247],\n",
       "           [ 0.0018,  0.0525, -0.0305,  0.0421, -0.0472]],\n",
       " \n",
       "          [[ 0.0387, -0.0202,  0.0415, -0.0236,  0.0167],\n",
       "           [ 0.0371, -0.0644,  0.0790, -0.0402, -0.0190],\n",
       "           [-0.0463, -0.0592,  0.0470,  0.0087, -0.0715],\n",
       "           [-0.0522,  0.0353,  0.0159, -0.0413,  0.0497],\n",
       "           [ 0.0211, -0.0634,  0.0017,  0.0022,  0.0010]]],\n",
       " \n",
       " \n",
       "         ...,\n",
       " \n",
       " \n",
       "         [[[ 0.0699,  0.0031, -0.0609,  0.0749,  0.0346],\n",
       "           [-0.0320, -0.0476, -0.0057, -0.0433,  0.0693],\n",
       "           [ 0.0542,  0.0492, -0.0590,  0.0482,  0.0207],\n",
       "           [-0.0445, -0.0762,  0.0350,  0.0434, -0.0621],\n",
       "           [ 0.0766, -0.0437, -0.0416, -0.0422,  0.0585]],\n",
       " \n",
       "          [[-0.0210,  0.0299,  0.0395,  0.0534, -0.0796],\n",
       "           [ 0.0356, -0.0687,  0.0047, -0.0531,  0.0735],\n",
       "           [ 0.0212,  0.0665,  0.0085,  0.0574, -0.0003],\n",
       "           [-0.0171,  0.0283, -0.0777,  0.0795,  0.0002],\n",
       "           [ 0.0097,  0.0211,  0.0558, -0.0261,  0.0626]],\n",
       " \n",
       "          [[ 0.0064,  0.0484, -0.0194,  0.0007, -0.0573],\n",
       "           [-0.0446, -0.0369, -0.0684, -0.0231,  0.0034],\n",
       "           [ 0.0799,  0.0751,  0.0588,  0.0513,  0.0053],\n",
       "           [ 0.0031, -0.0441, -0.0106, -0.0512,  0.0312],\n",
       "           [-0.0578, -0.0363,  0.0249,  0.0213, -0.0330]],\n",
       " \n",
       "          [[-0.0383,  0.0110, -0.0786,  0.0431, -0.0772],\n",
       "           [-0.0794, -0.0463,  0.0526,  0.0382,  0.0383],\n",
       "           [ 0.0181,  0.0335, -0.0612, -0.0221,  0.0564],\n",
       "           [ 0.0246, -0.0559,  0.0270,  0.0462, -0.0622],\n",
       "           [ 0.0587, -0.0571, -0.0541, -0.0575,  0.0252]],\n",
       " \n",
       "          [[ 0.0777, -0.0711,  0.0438,  0.0497, -0.0139],\n",
       "           [-0.0251, -0.0310, -0.0084,  0.0707, -0.0195],\n",
       "           [ 0.0756, -0.0500, -0.0348,  0.0550, -0.0125],\n",
       "           [ 0.0224, -0.0392, -0.0257, -0.0193, -0.0791],\n",
       "           [-0.0301,  0.0084, -0.0188,  0.0419, -0.0624]],\n",
       " \n",
       "          [[ 0.0169, -0.0784, -0.0744, -0.0504,  0.0653],\n",
       "           [-0.0275, -0.0665,  0.0763, -0.0119,  0.0057],\n",
       "           [-0.0408,  0.0402, -0.0451, -0.0284, -0.0101],\n",
       "           [-0.0390, -0.0321,  0.0221,  0.0663, -0.0419],\n",
       "           [-0.0467, -0.0768,  0.0461,  0.0437, -0.0613]]],\n",
       " \n",
       " \n",
       "         [[[-0.0157, -0.0662, -0.0465,  0.0411, -0.0100],\n",
       "           [-0.0545, -0.0772, -0.0771, -0.0076,  0.0012],\n",
       "           [-0.0489,  0.0450, -0.0304,  0.0304,  0.0358],\n",
       "           [ 0.0429,  0.0062,  0.0002,  0.0183,  0.0498],\n",
       "           [ 0.0752, -0.0215,  0.0403,  0.0073,  0.0526]],\n",
       " \n",
       "          [[-0.0491,  0.0790, -0.0648, -0.0798,  0.0799],\n",
       "           [-0.0557, -0.0397, -0.0466,  0.0157,  0.0389],\n",
       "           [-0.0043, -0.0340,  0.0402, -0.0381, -0.0119],\n",
       "           [ 0.0512,  0.0723,  0.0435, -0.0344, -0.0236],\n",
       "           [ 0.0641,  0.0290,  0.0067, -0.0546, -0.0748]],\n",
       " \n",
       "          [[-0.0453, -0.0802,  0.0491,  0.0286, -0.0748],\n",
       "           [-0.0213,  0.0427, -0.0030,  0.0741, -0.0296],\n",
       "           [ 0.0042, -0.0554, -0.0029,  0.0266,  0.0528],\n",
       "           [ 0.0050, -0.0561,  0.0222, -0.0438, -0.0125],\n",
       "           [ 0.0136,  0.0230,  0.0602, -0.0578,  0.0014]],\n",
       " \n",
       "          [[ 0.0068, -0.0270, -0.0134, -0.0647,  0.0033],\n",
       "           [ 0.0425, -0.0076, -0.0816, -0.0754,  0.0474],\n",
       "           [-0.0317, -0.0778, -0.0644, -0.0004,  0.0126],\n",
       "           [-0.0552, -0.0470, -0.0806,  0.0068, -0.0754],\n",
       "           [ 0.0812,  0.0090,  0.0256, -0.0484,  0.0122]],\n",
       " \n",
       "          [[ 0.0067,  0.0633, -0.0066, -0.0042,  0.0151],\n",
       "           [-0.0504,  0.0337, -0.0058, -0.0750,  0.0781],\n",
       "           [ 0.0686,  0.0581,  0.0148,  0.0111, -0.0049],\n",
       "           [-0.0754, -0.0687,  0.0791,  0.0778,  0.0097],\n",
       "           [ 0.0043, -0.0509, -0.0076, -0.0137, -0.0346]],\n",
       " \n",
       "          [[-0.0178,  0.0146, -0.0729,  0.0148,  0.0654],\n",
       "           [ 0.0602, -0.0014, -0.0574, -0.0452,  0.0772],\n",
       "           [-0.0044, -0.0304,  0.0635, -0.0743, -0.0309],\n",
       "           [-0.0079, -0.0169,  0.0705,  0.0631,  0.0251],\n",
       "           [ 0.0645, -0.0224,  0.0172,  0.0554,  0.0629]]],\n",
       " \n",
       " \n",
       "         [[[-0.0377,  0.0061, -0.0500,  0.0715,  0.0691],\n",
       "           [ 0.0584,  0.0759,  0.0500, -0.0324, -0.0386],\n",
       "           [-0.0230,  0.0468, -0.0032, -0.0778,  0.0235],\n",
       "           [-0.0038, -0.0470,  0.0260, -0.0521,  0.0783],\n",
       "           [ 0.0640,  0.0363,  0.0125, -0.0285,  0.0383]],\n",
       " \n",
       "          [[ 0.0133,  0.0068,  0.0598, -0.0725,  0.0533],\n",
       "           [ 0.0128,  0.0564,  0.0186,  0.0607,  0.0673],\n",
       "           [ 0.0617,  0.0018,  0.0222,  0.0019,  0.0430],\n",
       "           [ 0.0672,  0.0531, -0.0291,  0.0007,  0.0207],\n",
       "           [-0.0256, -0.0339,  0.0322,  0.0027,  0.0354]],\n",
       " \n",
       "          [[ 0.0055,  0.0486,  0.0724,  0.0471,  0.0518],\n",
       "           [ 0.0071, -0.0289, -0.0226, -0.0436,  0.0288],\n",
       "           [ 0.0045,  0.0772, -0.0494, -0.0453, -0.0425],\n",
       "           [-0.0283,  0.0588, -0.0649,  0.0114,  0.0115],\n",
       "           [-0.0776, -0.0146,  0.0093, -0.0451, -0.0509]],\n",
       " \n",
       "          [[ 0.0229,  0.0288, -0.0676,  0.0722, -0.0143],\n",
       "           [ 0.0215,  0.0512,  0.0522,  0.0369, -0.0184],\n",
       "           [-0.0245, -0.0286,  0.0395,  0.0263,  0.0162],\n",
       "           [ 0.0225,  0.0147,  0.0620, -0.0411, -0.0061],\n",
       "           [ 0.0603, -0.0358, -0.0802, -0.0555, -0.0280]],\n",
       " \n",
       "          [[-0.0507, -0.0746,  0.0344,  0.0471,  0.0540],\n",
       "           [-0.0483, -0.0167,  0.0104,  0.0239, -0.0744],\n",
       "           [ 0.0692,  0.0681,  0.0340,  0.0427,  0.0571],\n",
       "           [-0.0698, -0.0725, -0.0569, -0.0064,  0.0243],\n",
       "           [-0.0319, -0.0270, -0.0182, -0.0166,  0.0387]],\n",
       " \n",
       "          [[-0.0029, -0.0598,  0.0455, -0.0754, -0.0198],\n",
       "           [-0.0589,  0.0245, -0.0190,  0.0468, -0.0540],\n",
       "           [ 0.0584,  0.0243,  0.0519, -0.0804, -0.0040],\n",
       "           [-0.0556, -0.0520, -0.0067, -0.0301,  0.0800],\n",
       "           [-0.0517, -0.0049,  0.0051, -0.0033,  0.0544]]]], requires_grad=True),\n",
       " Parameter containing:\n",
       " tensor([-0.0561, -0.0709, -0.0369,  0.0442, -0.0330, -0.0357,  0.0371, -0.0725,\n",
       "          0.0196,  0.0327, -0.0520,  0.0008, -0.0191,  0.0680,  0.0102, -0.0319],\n",
       "        requires_grad=True),\n",
       " Parameter containing:\n",
       " tensor([[ 0.0056, -0.0332, -0.0493,  ..., -0.0167, -0.0337, -0.0392],\n",
       "         [ 0.0108,  0.0613,  0.0568,  ...,  0.0053,  0.0572,  0.0547],\n",
       "         [-0.0283, -0.0492, -0.0378,  ...,  0.0356,  0.0102, -0.0580],\n",
       "         ...,\n",
       "         [-0.0021, -0.0492, -0.0523,  ..., -0.0105,  0.0071,  0.0119],\n",
       "         [-0.0024, -0.0152,  0.0368,  ..., -0.0459,  0.0581, -0.0242],\n",
       "         [-0.0509, -0.0618, -0.0341,  ..., -0.0586,  0.0091, -0.0619]],\n",
       "        requires_grad=True),\n",
       " Parameter containing:\n",
       " tensor([-0.0278,  0.0595,  0.0377,  0.0410,  0.0221, -0.0616,  0.0383, -0.0188,\n",
       "          0.0170, -0.0506, -0.0044, -0.0330, -0.0376,  0.0339, -0.0458, -0.0263,\n",
       "         -0.0376,  0.0454, -0.0154,  0.0281,  0.0623, -0.0134, -0.0526,  0.0343,\n",
       "          0.0045,  0.0553, -0.0290, -0.0298, -0.0208,  0.0048, -0.0599,  0.0204,\n",
       "          0.0434,  0.0337,  0.0514, -0.0295,  0.0228, -0.0103,  0.0209,  0.0233,\n",
       "          0.0296,  0.0414, -0.0503, -0.0586, -0.0289, -0.0196, -0.0528,  0.0019,\n",
       "          0.0586, -0.0152, -0.0041,  0.0533,  0.0584, -0.0546, -0.0077, -0.0623,\n",
       "         -0.0437,  0.0385,  0.0238,  0.0575, -0.0348,  0.0278, -0.0450,  0.0009,\n",
       "         -0.0038,  0.0111,  0.0267, -0.0404,  0.0013,  0.0406, -0.0554, -0.0557,\n",
       "         -0.0271, -0.0618, -0.0608, -0.0192,  0.0357,  0.0232,  0.0368, -0.0051,\n",
       "          0.0603, -0.0069,  0.0591,  0.0207,  0.0228, -0.0523,  0.0053, -0.0180,\n",
       "          0.0508, -0.0531, -0.0038, -0.0124, -0.0498, -0.0028,  0.0359, -0.0053,\n",
       "         -0.0096, -0.0331, -0.0425,  0.0202, -0.0032,  0.0195, -0.0528, -0.0319,\n",
       "          0.0168, -0.0558, -0.0501, -0.0459, -0.0331, -0.0185, -0.0055,  0.0132,\n",
       "          0.0196,  0.0215, -0.0230, -0.0566,  0.0318,  0.0604, -0.0493,  0.0078],\n",
       "        requires_grad=True),\n",
       " Parameter containing:\n",
       " tensor([[-0.0742,  0.0531,  0.0506,  ..., -0.0600,  0.0429, -0.0357],\n",
       "         [-0.0546,  0.0688, -0.0661,  ...,  0.0828,  0.0072,  0.0442],\n",
       "         [ 0.0298, -0.0761, -0.0600,  ...,  0.0455, -0.0616,  0.0256],\n",
       "         ...,\n",
       "         [ 0.0562,  0.0822,  0.0019,  ..., -0.0882,  0.0750, -0.0426],\n",
       "         [-0.0538,  0.0817, -0.0423,  ...,  0.0553, -0.0574, -0.0163],\n",
       "         [-0.0729, -0.0156,  0.0036,  ...,  0.0480,  0.0301,  0.0329]],\n",
       "        requires_grad=True),\n",
       " Parameter containing:\n",
       " tensor([ 7.1419e-02,  3.7657e-02, -8.8077e-02,  7.3902e-02,  5.0593e-02,\n",
       "          6.9341e-02, -1.1603e-02, -8.4336e-02,  8.0888e-02,  6.9423e-02,\n",
       "         -1.1670e-02,  6.4307e-02,  1.0200e-05,  4.1859e-02,  6.5974e-02,\n",
       "          2.9007e-03, -8.2081e-02,  3.0795e-02,  6.1852e-02, -7.5939e-02,\n",
       "          3.6352e-02, -6.6216e-02, -3.3601e-03,  2.1500e-02, -5.2523e-02,\n",
       "         -3.2376e-02,  6.4101e-02,  3.7322e-02, -7.3037e-02,  5.7367e-02,\n",
       "         -4.2947e-02, -2.9057e-02, -1.8481e-02, -2.1645e-02,  6.8141e-02,\n",
       "          9.9724e-03, -3.0203e-03, -8.5014e-02, -1.7572e-02, -8.9739e-02,\n",
       "          6.0288e-02,  3.5074e-02,  8.9405e-02, -6.4645e-04, -3.3548e-02,\n",
       "         -8.6685e-02,  6.4449e-02, -1.4702e-02, -1.0022e-02, -7.4499e-03,\n",
       "         -5.7798e-02, -5.6567e-02,  8.8661e-02, -5.9176e-02,  2.4839e-02,\n",
       "          4.4658e-02,  1.7523e-02, -1.4565e-02, -3.0055e-02,  8.5092e-02,\n",
       "          3.0643e-02,  5.0677e-02, -8.8751e-02,  8.5779e-02,  5.2942e-02,\n",
       "          6.3156e-02, -9.0501e-02,  8.8274e-02,  2.3251e-02,  6.6901e-02,\n",
       "         -4.1253e-02, -7.5774e-02,  3.4831e-02,  1.3113e-02,  1.0247e-04,\n",
       "          2.5472e-02, -4.9756e-02, -9.7147e-03, -8.0505e-02,  7.6938e-02,\n",
       "         -4.4070e-03, -8.2791e-02, -1.1924e-02, -7.4108e-02],\n",
       "        requires_grad=True),\n",
       " Parameter containing:\n",
       " tensor([[-0.0123,  0.0421,  0.0143, -0.0785,  0.0460, -0.0084,  0.0184,  0.0650,\n",
       "           0.0550, -0.0167,  0.0562,  0.0620,  0.0381,  0.0732,  0.0736, -0.0743,\n",
       "           0.0404,  0.0450,  0.0134, -0.0138,  0.0426, -0.0365,  0.0918, -0.0939,\n",
       "          -0.0714, -0.0101, -0.0598,  0.1014,  0.0570, -0.1010, -0.0121,  0.0028,\n",
       "          -0.0060,  0.1007,  0.0387, -0.0761, -0.0849,  0.0900, -0.0379, -0.0710,\n",
       "           0.0590,  0.1066, -0.0318,  0.0662,  0.0403,  0.0477,  0.0179,  0.0830,\n",
       "          -0.0190,  0.0922,  0.1039, -0.0595, -0.0590,  0.0946, -0.0981,  0.0301,\n",
       "          -0.0456,  0.0193, -0.0221,  0.0386,  0.0092,  0.0303, -0.0074,  0.0098,\n",
       "           0.0837,  0.0655, -0.0646, -0.0609, -0.0898,  0.0311,  0.0984,  0.0380,\n",
       "          -0.0132,  0.0442, -0.0189, -0.1071, -0.0555,  0.0954,  0.0776, -0.0360,\n",
       "           0.1084, -0.0969,  0.0625,  0.0060],\n",
       "         [-0.0682,  0.0829,  0.0260, -0.0861, -0.0237,  0.0283, -0.0716,  0.0501,\n",
       "          -0.1028, -0.0490, -0.0861, -0.0365, -0.0297, -0.0601, -0.0918,  0.0203,\n",
       "           0.0772, -0.0678,  0.0924, -0.0332,  0.0519,  0.0474, -0.0462,  0.0685,\n",
       "          -0.0284,  0.0065,  0.0271,  0.0243, -0.0072,  0.1059,  0.0376,  0.0150,\n",
       "           0.0422, -0.0529, -0.0064,  0.0104, -0.0581, -0.0172, -0.1036, -0.0849,\n",
       "           0.0540, -0.0274,  0.1076,  0.0955,  0.0541, -0.0549, -0.0671,  0.0799,\n",
       "           0.1051,  0.0236,  0.0279, -0.0211,  0.0728,  0.0528, -0.0333,  0.0507,\n",
       "          -0.0535,  0.1020,  0.0712, -0.0378,  0.0281,  0.0031, -0.0660,  0.0504,\n",
       "           0.0500, -0.0366,  0.0638, -0.0289, -0.0345,  0.0148, -0.0577, -0.0396,\n",
       "           0.0791,  0.0384,  0.0927,  0.0521, -0.0532, -0.0723, -0.0241, -0.0864,\n",
       "           0.1081, -0.0378,  0.0367, -0.0167],\n",
       "         [-0.0776, -0.0688,  0.0753, -0.0894, -0.0197,  0.0182, -0.0376, -0.0770,\n",
       "           0.0599,  0.0573, -0.0077,  0.0505,  0.0002, -0.0699, -0.0915,  0.0039,\n",
       "           0.0609,  0.0376, -0.0482, -0.0585, -0.0538, -0.0306, -0.0045,  0.0613,\n",
       "           0.0449,  0.1086,  0.0051,  0.0331,  0.0534,  0.0812,  0.0847, -0.0606,\n",
       "           0.0580,  0.0814, -0.0418,  0.0927, -0.0532, -0.0692,  0.0450,  0.0729,\n",
       "          -0.0771,  0.0920, -0.0847,  0.0345, -0.0625, -0.0732,  0.0749,  0.0237,\n",
       "           0.0011,  0.0542, -0.0044, -0.0977, -0.0750,  0.1075,  0.0454, -0.0137,\n",
       "          -0.0324,  0.0284,  0.0820, -0.0519,  0.0171, -0.0261,  0.0532,  0.0918,\n",
       "          -0.0091,  0.0786, -0.0358, -0.0894, -0.0612,  0.0283,  0.0062, -0.0535,\n",
       "           0.0770,  0.0155, -0.0969, -0.0142, -0.0291, -0.0298,  0.0730, -0.0744,\n",
       "          -0.0636, -0.0017, -0.0998,  0.0943],\n",
       "         [ 0.0908, -0.0009,  0.1026,  0.0456, -0.0508, -0.1068, -0.0236,  0.0290,\n",
       "           0.0695,  0.0075, -0.0491, -0.0320,  0.0019,  0.0412, -0.0731,  0.0305,\n",
       "          -0.0314,  0.0398, -0.0220,  0.0532, -0.0580, -0.0162,  0.0906, -0.0456,\n",
       "           0.0112,  0.0455, -0.0809, -0.0778,  0.0891, -0.1071, -0.0652, -0.0592,\n",
       "          -0.0629,  0.0014,  0.0088,  0.0884,  0.0662, -0.0224,  0.0353,  0.0019,\n",
       "           0.0442,  0.0977,  0.0483,  0.0108,  0.0612,  0.1024,  0.0148,  0.1043,\n",
       "          -0.0012,  0.0081, -0.0509, -0.0604,  0.0627, -0.0998, -0.0287,  0.0537,\n",
       "           0.0786,  0.0901,  0.0538,  0.0980,  0.0416,  0.0198,  0.1057,  0.0875,\n",
       "          -0.0388,  0.0607,  0.0712,  0.0374, -0.0886,  0.1089,  0.0209, -0.0994,\n",
       "           0.0560,  0.0499,  0.1031,  0.1067,  0.1076, -0.1057, -0.0863,  0.0904,\n",
       "          -0.0904, -0.0067, -0.0277, -0.0548],\n",
       "         [-0.0550,  0.0279,  0.0102,  0.0160, -0.0585, -0.0593, -0.0345, -0.0904,\n",
       "          -0.0292,  0.0053, -0.0608, -0.0518, -0.0023,  0.0519, -0.0377,  0.0047,\n",
       "           0.0106,  0.0596,  0.0789, -0.0346,  0.0616,  0.0865,  0.0498, -0.0416,\n",
       "           0.0017,  0.0830, -0.0180, -0.0223, -0.1056, -0.0172, -0.1086,  0.0939,\n",
       "           0.0748, -0.0480, -0.0646,  0.0946, -0.0570, -0.0595, -0.0435, -0.0161,\n",
       "           0.0145,  0.1037,  0.0087,  0.1060,  0.0620, -0.0199, -0.0997,  0.0953,\n",
       "           0.1025, -0.0876, -0.0401,  0.0590, -0.0593,  0.0619, -0.0749,  0.0329,\n",
       "           0.0519,  0.1081, -0.0329,  0.0190,  0.0541, -0.0467, -0.0881, -0.0301,\n",
       "           0.1024, -0.0538, -0.0918,  0.0872, -0.0899, -0.1014,  0.0127,  0.0216,\n",
       "          -0.0167, -0.0813,  0.0625, -0.0011, -0.0710,  0.0165,  0.0886, -0.0573,\n",
       "           0.0233, -0.0049, -0.0932,  0.0209],\n",
       "         [ 0.0484,  0.0785,  0.0461, -0.0336,  0.0886,  0.0480, -0.0225,  0.0710,\n",
       "          -0.0288, -0.0274, -0.0530,  0.0027,  0.0041, -0.0939,  0.0141, -0.0138,\n",
       "          -0.0690, -0.0735,  0.0027,  0.0927,  0.0728,  0.0319,  0.0194,  0.0314,\n",
       "          -0.0711,  0.0777, -0.0742, -0.0450,  0.0674, -0.0762, -0.0899, -0.0200,\n",
       "          -0.0318, -0.0802, -0.0561,  0.0649,  0.0299,  0.0815, -0.0631,  0.1009,\n",
       "           0.0982,  0.0800, -0.0020,  0.1022, -0.0961, -0.0101,  0.0967,  0.0223,\n",
       "           0.0090,  0.0341, -0.0426,  0.0745, -0.0133,  0.0743,  0.0542, -0.0089,\n",
       "           0.0639, -0.0460, -0.0944,  0.0819,  0.0418,  0.0491, -0.0562, -0.0401,\n",
       "          -0.0098,  0.0896, -0.0525, -0.0036, -0.0447, -0.0806, -0.0418, -0.0836,\n",
       "          -0.0693,  0.0405,  0.0120,  0.1082, -0.0910, -0.0751,  0.1028,  0.0003,\n",
       "           0.0145, -0.0607, -0.0691,  0.1069],\n",
       "         [ 0.0961, -0.0094,  0.0070,  0.0500, -0.0816, -0.0258,  0.0722,  0.0348,\n",
       "          -0.0785,  0.0384,  0.0208,  0.0978, -0.0898, -0.0523,  0.0841, -0.0495,\n",
       "          -0.0369,  0.0987, -0.0691,  0.0819,  0.0227, -0.0775, -0.0942, -0.0661,\n",
       "           0.0282,  0.0004, -0.0782, -0.0603, -0.0076,  0.0815, -0.0807,  0.0251,\n",
       "           0.0884,  0.0158, -0.0505,  0.0328, -0.0734, -0.0509, -0.0902,  0.0141,\n",
       "          -0.1067, -0.1006, -0.0931,  0.1022,  0.1021, -0.0243,  0.0046, -0.0579,\n",
       "          -0.0083,  0.0601,  0.0790,  0.0673,  0.0341, -0.0058,  0.0999,  0.0876,\n",
       "          -0.0921, -0.0865, -0.0061, -0.0765,  0.1006,  0.0089, -0.0585,  0.1033,\n",
       "           0.0388,  0.1043, -0.0573, -0.0827,  0.0590, -0.0178, -0.0270, -0.0864,\n",
       "           0.0726,  0.0276,  0.0185,  0.1043, -0.0223, -0.0030, -0.0826, -0.0593,\n",
       "          -0.0245,  0.0213, -0.0295,  0.0279],\n",
       "         [-0.0753, -0.0637,  0.0841,  0.0527, -0.0374,  0.0488,  0.0333, -0.0883,\n",
       "           0.0597, -0.0459, -0.0650, -0.0037,  0.0993,  0.1073, -0.0057,  0.0644,\n",
       "          -0.0792, -0.0563, -0.0840, -0.0536, -0.0025, -0.0187, -0.0009, -0.0804,\n",
       "          -0.0587, -0.1045,  0.0961, -0.0144,  0.0045,  0.0777,  0.0849,  0.0605,\n",
       "          -0.0946, -0.0572, -0.0704, -0.0409, -0.0681,  0.0866,  0.0477,  0.0122,\n",
       "           0.0581,  0.0453,  0.0682, -0.0791,  0.0152,  0.0686,  0.0765,  0.0304,\n",
       "          -0.0814, -0.0623,  0.0901,  0.1082, -0.0598, -0.0047, -0.0196, -0.0340,\n",
       "           0.0633,  0.0078, -0.0419, -0.0977,  0.0113, -0.0699,  0.0578, -0.0608,\n",
       "           0.0505,  0.0389,  0.1071, -0.0426,  0.0064,  0.1066,  0.0106, -0.0023,\n",
       "          -0.0923, -0.0622, -0.0419,  0.0010,  0.0928, -0.0599, -0.0694,  0.0314,\n",
       "           0.0550,  0.0938,  0.0987, -0.0019],\n",
       "         [ 0.0608, -0.0295,  0.0451,  0.0280, -0.0585,  0.0649, -0.0404,  0.0972,\n",
       "           0.0068,  0.0868,  0.0540,  0.0153, -0.0886,  0.0444, -0.0059, -0.0325,\n",
       "           0.0335, -0.0627,  0.0135, -0.0362,  0.0712,  0.0204, -0.0236, -0.1070,\n",
       "          -0.0490, -0.0133,  0.0563,  0.0344,  0.0508,  0.0129,  0.0177,  0.0630,\n",
       "          -0.0843, -0.0235, -0.0473, -0.0219, -0.0036, -0.0285, -0.0570,  0.0561,\n",
       "           0.0260, -0.0387, -0.0859,  0.0383,  0.0450, -0.1085,  0.0054, -0.0329,\n",
       "          -0.0312, -0.0558, -0.0787, -0.0263, -0.0140, -0.0094,  0.0589,  0.1052,\n",
       "          -0.0737, -0.0470,  0.0170,  0.0221, -0.1016,  0.0149,  0.0195,  0.1071,\n",
       "           0.0856, -0.0806,  0.0198, -0.1045, -0.1076,  0.0069, -0.0388, -0.0618,\n",
       "           0.0638, -0.0336,  0.0737, -0.0053,  0.0949,  0.0886, -0.0773, -0.0560,\n",
       "           0.0060,  0.0825, -0.0188, -0.0939],\n",
       "         [ 0.0280, -0.0558, -0.0138,  0.0105,  0.0358, -0.0405,  0.0876,  0.0073,\n",
       "          -0.0651,  0.0057, -0.0793, -0.0864,  0.0335,  0.0784,  0.0934,  0.1001,\n",
       "          -0.0871, -0.0497, -0.0994, -0.0953,  0.0647,  0.0775,  0.0498, -0.0765,\n",
       "           0.0543,  0.0489,  0.1069,  0.0898, -0.0532,  0.1054,  0.1086,  0.0595,\n",
       "           0.0978,  0.0789, -0.1071, -0.0539, -0.0291, -0.0358,  0.0227,  0.0873,\n",
       "           0.0391, -0.0744,  0.0589,  0.0829,  0.0989,  0.0065,  0.0238,  0.0485,\n",
       "           0.0602,  0.0170, -0.0245, -0.0191,  0.0869,  0.0563,  0.0130,  0.0747,\n",
       "           0.0922,  0.0910, -0.0590,  0.0800,  0.0371, -0.0256,  0.0630, -0.0337,\n",
       "          -0.0315,  0.1011, -0.0011, -0.1009,  0.1060, -0.0207, -0.0993, -0.0953,\n",
       "          -0.0856,  0.0438,  0.0680, -0.0541,  0.0198,  0.0141,  0.0841,  0.0087,\n",
       "           0.0283,  0.0934,  0.1089, -0.0413]], requires_grad=True),\n",
       " Parameter containing:\n",
       " tensor([-0.0876, -0.0134, -0.0978, -0.0670, -0.0581,  0.0171, -0.0372, -0.0916,\n",
       "         -0.0887, -0.0814], requires_grad=True)]"
      ]
     },
     "execution_count": 15,
     "metadata": {},
     "output_type": "execute_result"
    }
   ],
   "source": [
    "list(model.parameters())"
   ]
  },
  {
   "cell_type": "markdown",
   "metadata": {},
   "source": [
    "We will use Stochastic Gradient Descent as our optimizer. Let's begin the training:"
   ]
  },
  {
   "cell_type": "code",
   "execution_count": 16,
   "metadata": {},
   "outputs": [],
   "source": [
    "import torch.optim as optim\n",
    "\n",
    "criterion = nn.CrossEntropyLoss()\n",
    "optimizer = optim.SGD(model.parameters(), lr=0.001, momentum=0.9)"
   ]
  },
  {
   "cell_type": "code",
   "execution_count": 17,
   "metadata": {
    "scrolled": true
   },
   "outputs": [],
   "source": [
    "for epoch in range(2): \n",
    "\n",
    "    for i, data in enumerate(trainloader, 0):\n",
    "        \n",
    "        inputs, labels = data\n",
    "        optimizer.zero_grad()\n",
    "        outputs = model(inputs)\n",
    "        loss = criterion(outputs, labels)\n",
    "        loss.backward()\n",
    "        optimizer.step()"
   ]
  },
  {
   "cell_type": "markdown",
   "metadata": {},
   "source": [
    "Finally, let's check our accuracy on the testing set. We can do this using the `testloader` we defined, but unfortunately, we will have to do it batch by batch."
   ]
  },
  {
   "cell_type": "code",
   "execution_count": 18,
   "metadata": {},
   "outputs": [
    {
     "name": "stdout",
     "output_type": "stream",
     "text": [
      "Accuracy of the network on the 10000 test images: 98 %\n"
     ]
    }
   ],
   "source": [
    "correct = 0\n",
    "total = len(testloader) * 4\n",
    "\n",
    "with torch.no_grad():\n",
    "    for data in testloader:\n",
    "        images, labels = data\n",
    "        outputs = model(images)\n",
    "        _, predicted = torch.max(outputs.data, 1)\n",
    "        correct += (predicted == labels).sum().item()\n",
    "\n",
    "print('Accuracy of the network on the 10000 test images: %d %%' % (100 * correct / total))"
   ]
  }
 ],
 "metadata": {
  "kernelspec": {
   "display_name": "Python 3",
   "language": "python",
   "name": "python3"
  },
  "language_info": {
   "codemirror_mode": {
    "name": "ipython",
    "version": 3
   },
   "file_extension": ".py",
   "mimetype": "text/x-python",
   "name": "python",
   "nbconvert_exporter": "python",
   "pygments_lexer": "ipython3",
   "version": "3.7.2"
  }
 },
 "nbformat": 4,
 "nbformat_minor": 2
}
